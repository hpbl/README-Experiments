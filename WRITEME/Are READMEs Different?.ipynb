{
 "cells": [
  {
   "cell_type": "markdown",
   "metadata": {},
   "source": [
    "# Are READMEs Different?\n",
    "\n",
    "On this notebook we analyze READMEs from different repositories in an attempt to discover if they are different, and if so, what factors contribute to those differences."
   ]
  },
  {
   "cell_type": "markdown",
   "metadata": {},
   "source": [
    "## Programming Language\n",
    "\n",
    "Are READMEs from projects of different programming languages different?"
   ]
  },
  {
   "cell_type": "code",
   "execution_count": 28,
   "metadata": {},
   "outputs": [],
   "source": [
    "# Imports, Constants and Helpers\n",
    "import os\n",
    "from IPython.display import display, Markdown\n",
    "\n",
    "READMES_FOLDER = 'data/READMEs/'\n",
    "DMD = lambda md: display(Markdown(md))"
   ]
  },
  {
   "cell_type": "code",
   "execution_count": 37,
   "metadata": {},
   "outputs": [
    {
     "data": {
      "text/markdown": [
       "**PROGRAMMING LANGUAGES BEING ANALYZED:**\n",
       " - python\n",
       " - cpp\n",
       " - swift\n",
       " - csharp"
      ],
      "text/plain": [
       "<IPython.core.display.Markdown object>"
      ]
     },
     "metadata": {},
     "output_type": "display_data"
    }
   ],
   "source": [
    "# What programming languages are we analyzing\n",
    "programming_languages = [file for file in os.listdir(READMES_FOLDER) if os.path.isdir(f'{READMES_FOLDER}{file}')]\n",
    "\n",
    "languages_bullet_list = '**PROGRAMMING LANGUAGES BEING ANALYZED:**'\n",
    "for language in programming_languages:\n",
    "    languages_bullet_list += f'\\n - {language}'\n",
    "    \n",
    "DMD(languages_bullet_list)"
   ]
  },
  {
   "cell_type": "code",
   "execution_count": 42,
   "metadata": {},
   "outputs": [
    {
     "name": "stdout",
     "output_type": "stream",
     "text": [
      "300\n",
      "295\n",
      "100\n",
      "298\n"
     ]
    }
   ],
   "source": [
    "# HOW many READMES do we have?\n",
    "\n",
    "for language in programming_languages:\n",
    "    print(len(os.listdir(f'{READMES_FOLDER}{language}')))"
   ]
  },
  {
   "cell_type": "code",
   "execution_count": null,
   "metadata": {},
   "outputs": [],
   "source": []
  }
 ],
 "metadata": {
  "kernelspec": {
   "display_name": "Python 3",
   "language": "python",
   "name": "python3"
  },
  "language_info": {
   "codemirror_mode": {
    "name": "ipython",
    "version": 3
   },
   "file_extension": ".py",
   "mimetype": "text/x-python",
   "name": "python",
   "nbconvert_exporter": "python",
   "pygments_lexer": "ipython3",
   "version": "3.7.3"
  }
 },
 "nbformat": 4,
 "nbformat_minor": 2
}
