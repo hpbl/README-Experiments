{
 "cells": [
  {
   "cell_type": "markdown",
   "metadata": {},
   "source": [
    "# Data collection\n",
    "\n",
    "On this notebook we're collecting the README.md files from github API, and saving them locally to be analyzed on another notebook."
   ]
  },
  {
   "cell_type": "markdown",
   "metadata": {},
   "source": [
    "## Setup\n",
    "\n",
    "### Installing packages"
   ]
  },
  {
   "cell_type": "code",
   "execution_count": 2,
   "metadata": {},
   "outputs": [
    {
     "name": "stdout",
     "output_type": "stream",
     "text": [
      "Requirement already satisfied: markdown in /opt/conda/lib/python3.7/site-packages (3.1)\r\n",
      "Requirement already satisfied: setuptools>=36 in /opt/conda/lib/python3.7/site-packages (from markdown) (41.0.0)\r\n"
     ]
    }
   ],
   "source": [
    "# Install a pip package in the current Jupyter kernel\n",
    "import sys\n",
    "!{sys.executable} -m pip install markdown"
   ]
  },
  {
   "cell_type": "markdown",
   "metadata": {},
   "source": [
    "### Importing\n",
    "> External libraries used on the notebook\n",
    "\n",
    "-  [Requests](http://docs.python-requests.org/en/master/): library to make https requests.\n",
    "-  [Regular Expressions](https://docs.python.org/3/library/re.html): library to operate on strings using regex.\n",
    "-  [Markdown](https://python-markdown.github.io/): library to convert markdown to html. "
   ]
  },
  {
   "cell_type": "code",
   "execution_count": 49,
   "metadata": {},
   "outputs": [],
   "source": [
    "import requests as rq\n",
    "import re\n",
    "import markdown\n",
    "import math\n",
    "import json\n",
    "from functools import reduce\n",
    "import os"
   ]
  },
  {
   "cell_type": "markdown",
   "metadata": {},
   "source": [
    "### Requests and Downloads"
   ]
  },
  {
   "cell_type": "markdown",
   "metadata": {},
   "source": [
    "#### 1. fetchRepositories\n",
    "> Fetch a number of repositories acording that match the query parameters. Pagination may occur.\n",
    "\n",
    "**Parameters:** \n",
    "- `query`: The query contains one or more search keywords and qualifiers. Qualifiers allow you to limit your search to specific areas of GitHub..\n",
    "- `parameters`: Query parameters (ex: \"language:swift\")\n",
    "- `sort`: Parameter to sort the query (ex: \"stars\")\n",
    "- `numResults`: Number of repositories wanted\n",
    "\n",
    "**Return:**\n",
    "- A list with the result of each request."
   ]
  },
  {
   "cell_type": "code",
   "execution_count": 29,
   "metadata": {},
   "outputs": [],
   "source": [
    "gitHubPageLimit = 100\n",
    "\n",
    "def pagesCount(numResults):\n",
    "    pageCount = []\n",
    "    for x in range(math.floor(numResults / gitHubPageLimit)):\n",
    "        pageCount.append(gitHubPageLimit)\n",
    "    \n",
    "    remainder = numResults % gitHubPageLimit\n",
    "    if remainder != 0:\n",
    "        pageCount.append(remainder)\n",
    "        \n",
    "    return pageCount\n",
    "\n",
    "def assembleRepositoryQuery(parameters, sort, pageNumber, perPage):\n",
    "    baseURL = \"https://api.github.com/search/repositories?q=\"\n",
    "    baseURL += parameters + \"+sort:\" + sort + \"&per_page=\" + str(perPage) + \"&page=\" + str(pageNumber)\n",
    "    return baseURL\n",
    "\n",
    "def fetchRepositories(parameters, sort, numResults):\n",
    "    pages = pagesCount(numResults)\n",
    "\n",
    "    repositories = []\n",
    "    queries = []\n",
    "    for pageNumber, perPage in enumerate(pages):\n",
    "        queryURL = assembleRepositoryQuery(parameters, sort, pageNumber + 1, perPage)\n",
    "        queries.append(queryURL)\n",
    "        repositories.append(rq.get(queryURL))\n",
    "        \n",
    "    return (repositories, queries)"
   ]
  },
  {
   "cell_type": "markdown",
   "metadata": {},
   "source": [
    "#### 2. jsonResponses\n",
    "> Turn request responses into JSON (dict)\n",
    "\n",
    "**Parameters:** \n",
    "- `responses`: array os response objects from requests lib.\n",
    "- `urls`: urls that were requested to generate the responses.\n",
    "\n",
    "**Return:**\n",
    "- JSON dictionary with `repos` information and `urls` queried."
   ]
  },
  {
   "cell_type": "code",
   "execution_count": 42,
   "metadata": {},
   "outputs": [],
   "source": [
    "def jsonResponses(responses, urls):\n",
    "    json = {}\n",
    "    json[\"repos\"] = reduce(lambda accum, response: accum + response.json()[\"items\"], responses, [])\n",
    "    json[\"urls\"] = urls\n",
    "    return json"
   ]
  },
  {
   "cell_type": "markdown",
   "metadata": {},
   "source": [
    "#### 3. saveJSONFile\n",
    "> Write a JSON content to a new (or existing) file on the system.\n",
    "\n",
    "**Parameters:** \n",
    "- `foldername`: name of folder to save file.\n",
    "- `filename`: name of existing or new JSON file.\n",
    "- `content`: the json (dict) that is going to be written to the file.\n",
    "\n",
    "**Side-effect:**\n",
    "- new `filename.json` file saved on the `/data` folder."
   ]
  },
  {
   "cell_type": "code",
   "execution_count": 53,
   "metadata": {},
   "outputs": [],
   "source": [
    "def saveJSONFile(foldername, filename, content):\n",
    "    path = f'data/{foldername}'\n",
    "    if not os.path.exists(path):\n",
    "        os.mkdir(path)\n",
    "    file = open(f'{path}/{filename}.json', \"w\") \n",
    "    file.write(json.dumps(content))\n",
    "    file.close()"
   ]
  },
  {
   "cell_type": "markdown",
   "metadata": {},
   "source": [
    "\n",
    "## API Queries\n",
    "\n",
    "Through the GitHub API there are several ways of querying for projects. In this section we'll make some specific queries and some generic ones as well to later compare the obtained results.\n",
    "\n",
    "The following parameters can be of interest for the queries:\n",
    "- Programming language\n",
    "- Topic\n",
    "- Project type (framework, library, app, list)¹\n",
    "- Domain (music, real estate, networking)¹\n",
    "\n",
    "The following paramenters can be used to **sort/filter** the results:\n",
    "- Stars\n",
    "- Forks\n",
    "- Creation date\n",
    "- Last updated\n",
    "\n",
    "¹would require novel approach, needing further testing to prove it's efficiency."
   ]
  },
  {
   "cell_type": "markdown",
   "metadata": {},
   "source": [
    "### Assembling Queries\n",
    "\n",
    "Combining different types of queries to see which ones generate a better result."
   ]
  },
  {
   "cell_type": "code",
   "execution_count": 55,
   "metadata": {},
   "outputs": [],
   "source": [
    "language = \"Swift\"\n",
    "topic = \"iOS\"\n",
    "libraryQuery = \"library\"\n",
    "sort = \"stars\"\n",
    "numberRepos = 100\n",
    "\n",
    "languageQuery = f'language:{language}'\n",
    "languageTopicQuery = f'language:{language}+topic:{topic}'\n",
    "typeLanguageTopicQuery = f'{libraryQuery}+language:{language}+topic:{topic}'\n",
    "typeLanguageQuery = f'{libraryQuery}+language:{language}'\n",
    "\n",
    "queries = [languageQuery, languageTopicQuery, typeLanguageTopicQuery, typeLanguageQuery]"
   ]
  },
  {
   "cell_type": "markdown",
   "metadata": {},
   "source": [
    "### Querying and Saving JSONs\n",
    "\n",
    "Performing the assembled queries and saving the JSONs on the `data/` folder."
   ]
  },
  {
   "cell_type": "code",
   "execution_count": 56,
   "metadata": {},
   "outputs": [
    {
     "name": "stdout",
     "output_type": "stream",
     "text": [
      "['https://api.github.com/search/repositories?q=language:Swift+sort:stars&per_page=100&page=1']\n",
      "['https://api.github.com/search/repositories?q=language:Swift+topic:iOS+sort:stars&per_page=100&page=1']\n",
      "['https://api.github.com/search/repositories?q=library+language:Swift+topic:iOS+sort:stars&per_page=100&page=1']\n",
      "['https://api.github.com/search/repositories?q=library+language:Swift+sort:stars&per_page=100&page=1']\n"
     ]
    }
   ],
   "source": [
    "for query in queries:\n",
    "    (queryResponses, urls) = fetchRepositories(query, sort, numberRepos)\n",
    "    print(urls)\n",
    "    saveJSONFile(\"queries\", query, jsonResponses(queryResponses, urls))"
   ]
  }
 ],
 "metadata": {
  "kernelspec": {
   "display_name": "Python 3",
   "language": "python",
   "name": "python3"
  },
  "language_info": {
   "codemirror_mode": {
    "name": "ipython",
    "version": 3
   },
   "file_extension": ".py",
   "mimetype": "text/x-python",
   "name": "python",
   "nbconvert_exporter": "python",
   "pygments_lexer": "ipython3",
   "version": "3.7.3"
  }
 },
 "nbformat": 4,
 "nbformat_minor": 2
}
