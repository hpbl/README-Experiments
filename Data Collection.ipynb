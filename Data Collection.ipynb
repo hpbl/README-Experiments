{
 "cells": [
  {
   "cell_type": "markdown",
   "metadata": {},
   "source": [
    "# Data collection\n",
    "\n",
    "On this notebook we're collecting the README.md files from github API, and saving them locally to be analyzed on another notebook."
   ]
  },
  {
   "cell_type": "markdown",
   "metadata": {},
   "source": [
    "## Setup\n",
    "\n",
    "### Installing packages"
   ]
  },
  {
   "cell_type": "code",
   "execution_count": 1,
   "metadata": {},
   "outputs": [
    {
     "name": "stdout",
     "output_type": "stream",
     "text": [
      "Collecting markdown\n",
      "\u001b[?25l  Downloading https://files.pythonhosted.org/packages/f5/e4/d8c18f2555add57ff21bf25af36d827145896a07607486cc79a2aea641af/Markdown-3.1-py2.py3-none-any.whl (87kB)\n",
      "\u001b[K    100% |████████████████████████████████| 92kB 635kB/s ta 0:00:01\n",
      "\u001b[?25hRequirement already satisfied: setuptools>=36 in /opt/conda/lib/python3.7/site-packages (from markdown) (41.0.0)\n",
      "Installing collected packages: markdown\n",
      "Successfully installed markdown-3.1\n"
     ]
    }
   ],
   "source": [
    "# Install a pip package in the current Jupyter kernel\n",
    "import sys\n",
    "!{sys.executable} -m pip install markdown"
   ]
  },
  {
   "cell_type": "markdown",
   "metadata": {},
   "source": [
    "### Importing\n",
    "> External libraries used on the notebook\n",
    "\n",
    "-  [Requests](http://docs.python-requests.org/en/master/): library to make https requests.\n",
    "-  [Regular Expressions](https://docs.python.org/3/library/re.html): library to operate on strings using regex.\n",
    "-  [Markdown](https://python-markdown.github.io/): library to convert markdown to html. "
   ]
  },
  {
   "cell_type": "code",
   "execution_count": 2,
   "metadata": {},
   "outputs": [],
   "source": [
    "import requests as rq\n",
    "import re\n",
    "import markdown"
   ]
  },
  {
   "cell_type": "markdown",
   "metadata": {},
   "source": [
    "### 1. fetchReadmeURL\n",
    "> Query GitHub API for the download URL of the README.md file from the specified repository.\n",
    "\n",
    "**Parameters:** \n",
    "- `repoOwner`: name of the repository owner.\n",
    "- `repoName`: name of the repository.\n",
    "\n",
    "**Return:**\n",
    "- download URL of README.md file."
   ]
  },
  {
   "cell_type": "code",
   "execution_count": 3,
   "metadata": {},
   "outputs": [],
   "source": [
    "def fetchReadmeURL(repoOwner, repoName):\n",
    "    baseURL = 'https://api.github.com/repos'\n",
    "    requestURL = f'{baseURL}/{repoOwner}/{repoName}/readme'\n",
    "    \n",
    "    responseJSON = rq.get(requestURL).json()\n",
    "    readmeURL = responseJSON['download_url']\n",
    "    \n",
    "    return readmeURL"
   ]
  },
  {
   "cell_type": "markdown",
   "metadata": {},
   "source": [
    "### 2. downloadReadme\n",
    "> Download the README file, and save it with a specified filename on the `/data` folder.\n",
    "\n",
    "**Parameters:** \n",
    "- `readmeURL`: download URL of README.md file.\n",
    "- `filename`: name given to the file once downloaded.\n",
    "\n",
    "**Side-effect:**\n",
    "- new `filename.md` file saved on the `/data` folder."
   ]
  },
  {
   "cell_type": "code",
   "execution_count": 4,
   "metadata": {},
   "outputs": [],
   "source": [
    "def downloadReadme(readmeURL, filename):\n",
    "    !cd data/READMES && curl -o {filename + '.md'} {readmeURL} && cd -"
   ]
  },
  {
   "cell_type": "markdown",
   "metadata": {},
   "source": [
    "## Testing download functions"
   ]
  },
  {
   "cell_type": "code",
   "execution_count": 5,
   "metadata": {},
   "outputs": [
    {
     "name": "stdout",
     "output_type": "stream",
     "text": [
      "  % Total    % Received % Xferd  Average Speed   Time    Time     Time  Current\n",
      "                                 Dload  Upload   Total   Spent    Left  Speed\n",
      "100  2542  100  2542    0     0   5351      0 --:--:-- --:--:-- --:--:--  5351\n",
      "/home/jovyan/workspace\n"
     ]
    }
   ],
   "source": [
    "test_downloadURL = fetchReadmeURL('hpbl', 'spotties')\n",
    "test_downloadREADME = downloadReadme(test_downloadURL, 'spotties')"
   ]
  },
  {
   "cell_type": "markdown",
   "metadata": {},
   "source": [
    "## Compiling useful repositories\n",
    "The functions bellow compile a list of possible iOS frameworks/libraries repositories written in Swift"
   ]
  },
  {
   "cell_type": "markdown",
   "metadata": {},
   "source": [
    "Querying GitHub API for the 100 most starred repositories tagged \"iOS\" and written in Swift.\n",
    "Saving the JSON response as a local file as backup."
   ]
  },
  {
   "cell_type": "code",
   "execution_count": 47,
   "metadata": {},
   "outputs": [
    {
     "name": "stdout",
     "output_type": "stream",
     "text": [
      "  % Total    % Received % Xferd  Average Speed   Time    Time     Time  Current\n",
      "                                 Dload  Upload   Total   Spent    Left  Speed\n",
      "  0     0    0     0    0     0      0      0 --:--:-- --:--:-- --:--:--     0curl: (6) Could not resolve host:  \n",
      "100  183k  100  183k    0     0   144k      0  0:00:01  0:00:01 --:--:--  522k\n"
     ]
    }
   ],
   "source": [
    "url = \"https://api.github.com/search/repositories\\?q\\=+topic:iOS+language:swift+sort:stars\\&per_page\\=100\"\n",
    "headers = \"Accept:application/vnd.github.mercy-preview+json\"\n",
    "filename = 'top100Swift.json'\n",
    "# len(rq.get(url, headers=headers).json()['items'])\n",
    "\n",
    "!cd data && curl -H {headers} \\  {url} > {filename}"
   ]
  },
  {
   "cell_type": "markdown",
   "metadata": {},
   "source": [
    "Making the same request, but now keeping the response on memory."
   ]
  },
  {
   "cell_type": "code",
   "execution_count": 48,
   "metadata": {},
   "outputs": [],
   "source": [
    "response = rq.get(\"https://api.github.com/search/repositories?q=+topic:iOS+language:swift+sort:stars&per_page=100\").json()"
   ]
  },
  {
   "cell_type": "markdown",
   "metadata": {},
   "source": [
    "Saving the the URL of each repo on a txt, that will be analyzed by hand to see which ones are libraries or frameworks."
   ]
  },
  {
   "cell_type": "code",
   "execution_count": 53,
   "metadata": {},
   "outputs": [],
   "source": [
    "reposURL = []\n",
    "for element in response['items']:\n",
    "    reposURL.append(element['html_url'])\n",
    "\n",
    "with open('possibleFrameworks.txt', 'w') as f:\n",
    "    for repo in reposURL:\n",
    "        f.write(\"%s\\n\" % repo)"
   ]
  },
  {
   "cell_type": "markdown",
   "metadata": {},
   "source": [
    "For our analysis only repositories belonging to frameworks or libraries would be useful, so with a list of [`data/possibleFrameworks.txt`](data/possibleFrameworks.txt) we manually opened each link and looked at it's README file.\n",
    "\n",
    "The [`data/confirmedFrameworks.txt`](data/confirmedFrameworks.txt) list contains 85 links to repositories that belong to libraries or frameworks."
   ]
  },
  {
   "cell_type": "code",
   "execution_count": 5,
   "metadata": {},
   "outputs": [
    {
     "data": {
      "text/plain": [
       "85"
      ]
     },
     "execution_count": 5,
     "metadata": {},
     "output_type": "execute_result"
    }
   ],
   "source": [
    "frameworksURLs = []\n",
    "confirmedFrameworks = open('data/confirmedFrameworks.txt', 'r' )\n",
    "frameworksURLs = confirmedFrameworks.readlines()\n",
    "\n",
    "removeLineBreak = lambda x: re.sub('\\\\n$', '', x)\n",
    "\n",
    "frameworksURLs = list(map(removeLineBreak, frameworksURLs))\n",
    "\n",
    "len(frameworksURLs)"
   ]
  },
  {
   "cell_type": "markdown",
   "metadata": {},
   "source": [
    "Getting the framework's names and owners from the URLs"
   ]
  },
  {
   "cell_type": "code",
   "execution_count": 6,
   "metadata": {},
   "outputs": [],
   "source": [
    "getNameFromURL = lambda x: re.search('[^\\/]+(?=$)', x).group(0)\n",
    "getOwnerFromURL = lambda x: re.search('(?<=\\/)[\\w|\\-]+(?=\\/)', x).group(0)\n",
    "\n",
    "frameworkNames = list(map(getNameFromURL, frameworksURLs))\n",
    "frameworkOwners = list(map(getOwnerFromURL, frameworksURLs))\n",
    "\n",
    "frameworks = list(zip(frameworkOwners, frameworkNames, frameworksURLs))"
   ]
  },
  {
   "cell_type": "markdown",
   "metadata": {},
   "source": [
    "Downloading each framework README.md file. This step required authentication, so as not to reach the API limit. Credentials were removed."
   ]
  },
  {
   "cell_type": "code",
   "execution_count": 53,
   "metadata": {},
   "outputs": [
    {
     "name": "stdout",
     "output_type": "stream",
     "text": [
      "  % Total    % Received % Xferd  Average Speed   Time    Time     Time  Current\n",
      "                                 Dload  Upload   Total   Spent    Left  Speed\n",
      "100  7550  100  7550    0     0  11128      0 --:--:-- --:--:-- --:--:-- 11135\n",
      "/Users/pintor/Documents/CIn/10/Data Science/2018-2-projeto-bubads/Notebooks\n",
      "  % Total    % Received % Xferd  Average Speed   Time    Time     Time  Current\n",
      "                                 Dload  Upload   Total   Spent    Left  Speed\n",
      "100 10029  100 10029    0     0  18150      0 --:--:-- --:--:-- --:--:-- 18135\n",
      "/Users/pintor/Documents/CIn/10/Data Science/2018-2-projeto-bubads/Notebooks\n",
      "  % Total    % Received % Xferd  Average Speed   Time    Time     Time  Current\n",
      "                                 Dload  Upload   Total   Spent    Left  Speed\n",
      "100  6361  100  6361    0     0  11792      0 --:--:-- --:--:-- --:--:-- 11779\n",
      "/Users/pintor/Documents/CIn/10/Data Science/2018-2-projeto-bubads/Notebooks\n",
      "  % Total    % Received % Xferd  Average Speed   Time    Time     Time  Current\n",
      "                                 Dload  Upload   Total   Spent    Left  Speed\n",
      "100  7515  100  7515    0     0  13466      0 --:--:-- --:--:-- --:--:-- 13443\n",
      "/Users/pintor/Documents/CIn/10/Data Science/2018-2-projeto-bubads/Notebooks\n",
      "  % Total    % Received % Xferd  Average Speed   Time    Time     Time  Current\n",
      "                                 Dload  Upload   Total   Spent    Left  Speed\n",
      "100 50313  100 50313    0     0  64061      0 --:--:-- --:--:-- --:--:-- 64011\n",
      "/Users/pintor/Documents/CIn/10/Data Science/2018-2-projeto-bubads/Notebooks\n",
      "  % Total    % Received % Xferd  Average Speed   Time    Time     Time  Current\n",
      "                                 Dload  Upload   Total   Spent    Left  Speed\n",
      "100 17259  100 17259    0     0  27972      0 --:--:-- --:--:-- --:--:-- 27972\n",
      "/Users/pintor/Documents/CIn/10/Data Science/2018-2-projeto-bubads/Notebooks\n",
      "  % Total    % Received % Xferd  Average Speed   Time    Time     Time  Current\n",
      "                                 Dload  Upload   Total   Spent    Left  Speed\n",
      "100  3301  100  3301    0     0   5923      0 --:--:-- --:--:-- --:--:--  5926\n",
      "/Users/pintor/Documents/CIn/10/Data Science/2018-2-projeto-bubads/Notebooks\n",
      "  % Total    % Received % Xferd  Average Speed   Time    Time     Time  Current\n",
      "                                 Dload  Upload   Total   Spent    Left  Speed\n",
      "100  9155  100  9155    0     0  16207      0 --:--:-- --:--:-- --:--:-- 16232\n",
      "/Users/pintor/Documents/CIn/10/Data Science/2018-2-projeto-bubads/Notebooks\n",
      "  % Total    % Received % Xferd  Average Speed   Time    Time     Time  Current\n",
      "                                 Dload  Upload   Total   Spent    Left  Speed\n",
      "100  9174  100  9174    0     0  16373      0 --:--:-- --:--:-- --:--:-- 16352\n",
      "/Users/pintor/Documents/CIn/10/Data Science/2018-2-projeto-bubads/Notebooks\n",
      "  % Total    % Received % Xferd  Average Speed   Time    Time     Time  Current\n",
      "                                 Dload  Upload   Total   Spent    Left  Speed\n",
      "100 12399  100 12399    0     0  22678      0 --:--:-- --:--:-- --:--:-- 22667\n",
      "/Users/pintor/Documents/CIn/10/Data Science/2018-2-projeto-bubads/Notebooks\n",
      "  % Total    % Received % Xferd  Average Speed   Time    Time     Time  Current\n",
      "                                 Dload  Upload   Total   Spent    Left  Speed\n",
      "100 17314  100 17314    0     0  27266      0 --:--:-- --:--:-- --:--:-- 27309\n",
      "/Users/pintor/Documents/CIn/10/Data Science/2018-2-projeto-bubads/Notebooks\n",
      "  % Total    % Received % Xferd  Average Speed   Time    Time     Time  Current\n",
      "                                 Dload  Upload   Total   Spent    Left  Speed\n",
      "100  4474  100  4474    0     0   8324      0 --:--:-- --:--:-- --:--:--  8331\n",
      "/Users/pintor/Documents/CIn/10/Data Science/2018-2-projeto-bubads/Notebooks\n",
      "  % Total    % Received % Xferd  Average Speed   Time    Time     Time  Current\n",
      "                                 Dload  Upload   Total   Spent    Left  Speed\n",
      "100  9247  100  9247    0     0  15646      0 --:--:-- --:--:-- --:--:-- 15646\n",
      "/Users/pintor/Documents/CIn/10/Data Science/2018-2-projeto-bubads/Notebooks\n",
      "  % Total    % Received % Xferd  Average Speed   Time    Time     Time  Current\n",
      "                                 Dload  Upload   Total   Spent    Left  Speed\n",
      "100  9758  100  9758    0     0  16792      0 --:--:-- --:--:-- --:--:-- 16795\n",
      "/Users/pintor/Documents/CIn/10/Data Science/2018-2-projeto-bubads/Notebooks\n",
      "  % Total    % Received % Xferd  Average Speed   Time    Time     Time  Current\n",
      "                                 Dload  Upload   Total   Spent    Left  Speed\n",
      "100 12211  100 12211    0     0  22181      0 --:--:-- --:--:-- --:--:-- 22201\n",
      "/Users/pintor/Documents/CIn/10/Data Science/2018-2-projeto-bubads/Notebooks\n",
      "  % Total    % Received % Xferd  Average Speed   Time    Time     Time  Current\n",
      "                                 Dload  Upload   Total   Spent    Left  Speed\n",
      "100 12116  100 12116    0     0  22725      0 --:--:-- --:--:-- --:--:-- 22731\n",
      "/Users/pintor/Documents/CIn/10/Data Science/2018-2-projeto-bubads/Notebooks\n",
      "  % Total    % Received % Xferd  Average Speed   Time    Time     Time  Current\n",
      "                                 Dload  Upload   Total   Spent    Left  Speed\n",
      "100  4535  100  4535    0     0   7899      0 --:--:-- --:--:-- --:--:--  7886\n",
      "/Users/pintor/Documents/CIn/10/Data Science/2018-2-projeto-bubads/Notebooks\n",
      "  % Total    % Received % Xferd  Average Speed   Time    Time     Time  Current\n",
      "                                 Dload  Upload   Total   Spent    Left  Speed\n",
      "100  5145  100  5145    0     0   9526      0 --:--:-- --:--:-- --:--:--  9510\n",
      "/Users/pintor/Documents/CIn/10/Data Science/2018-2-projeto-bubads/Notebooks\n",
      "  % Total    % Received % Xferd  Average Speed   Time    Time     Time  Current\n",
      "                                 Dload  Upload   Total   Spent    Left  Speed\n",
      "100 39233  100 39233    0     0  44843      0 --:--:-- --:--:-- --:--:-- 44837\n",
      "/Users/pintor/Documents/CIn/10/Data Science/2018-2-projeto-bubads/Notebooks\n",
      "  % Total    % Received % Xferd  Average Speed   Time    Time     Time  Current\n",
      "                                 Dload  Upload   Total   Spent    Left  Speed\n",
      "100  3422  100  3422    0     0   6284      0 --:--:-- --:--:-- --:--:--  6278\n",
      "/Users/pintor/Documents/CIn/10/Data Science/2018-2-projeto-bubads/Notebooks\n",
      "  % Total    % Received % Xferd  Average Speed   Time    Time     Time  Current\n",
      "                                 Dload  Upload   Total   Spent    Left  Speed\n",
      "100  2322  100  2322    0     0   4272      0 --:--:-- --:--:-- --:--:--  4276\n",
      "/Users/pintor/Documents/CIn/10/Data Science/2018-2-projeto-bubads/Notebooks\n",
      "  % Total    % Received % Xferd  Average Speed   Time    Time     Time  Current\n",
      "                                 Dload  Upload   Total   Spent    Left  Speed\n",
      "100  8663  100  8663    0     0  15110      0 --:--:-- --:--:-- --:--:-- 15118\n",
      "/Users/pintor/Documents/CIn/10/Data Science/2018-2-projeto-bubads/Notebooks\n",
      "  % Total    % Received % Xferd  Average Speed   Time    Time     Time  Current\n",
      "                                 Dload  Upload   Total   Spent    Left  Speed\n",
      "100 10280  100 10280    0     0  18812      0 --:--:-- --:--:-- --:--:-- 18793\n",
      "/Users/pintor/Documents/CIn/10/Data Science/2018-2-projeto-bubads/Notebooks\n",
      "  % Total    % Received % Xferd  Average Speed   Time    Time     Time  Current\n",
      "                                 Dload  Upload   Total   Spent    Left  Speed\n",
      "100 29731  100 29731    0     0  47807      0 --:--:-- --:--:-- --:--:-- 47799\n",
      "/Users/pintor/Documents/CIn/10/Data Science/2018-2-projeto-bubads/Notebooks\n",
      "  % Total    % Received % Xferd  Average Speed   Time    Time     Time  Current\n",
      "                                 Dload  Upload   Total   Spent    Left  Speed\n",
      "100  6739  100  6739    0     0  11977      0 --:--:-- --:--:-- --:--:-- 11991\n",
      "/Users/pintor/Documents/CIn/10/Data Science/2018-2-projeto-bubads/Notebooks\n",
      "  % Total    % Received % Xferd  Average Speed   Time    Time     Time  Current\n",
      "                                 Dload  Upload   Total   Spent    Left  Speed\n",
      "100 12792  100 12792    0     0  23644      0 --:--:-- --:--:-- --:--:-- 23645\n",
      "/Users/pintor/Documents/CIn/10/Data Science/2018-2-projeto-bubads/Notebooks\n",
      "  % Total    % Received % Xferd  Average Speed   Time    Time     Time  Current\n",
      "                                 Dload  Upload   Total   Spent    Left  Speed\n"
     ]
    },
    {
     "name": "stdout",
     "output_type": "stream",
     "text": [
      "100  6134  100  6134    0     0  11288      0 --:--:-- --:--:-- --:--:-- 11275\n",
      "/Users/pintor/Documents/CIn/10/Data Science/2018-2-projeto-bubads/Notebooks\n",
      "  % Total    % Received % Xferd  Average Speed   Time    Time     Time  Current\n",
      "                                 Dload  Upload   Total   Spent    Left  Speed\n",
      "100 13606  100 13606    0     0  20781      0 --:--:-- --:--:-- --:--:-- 20804\n",
      "/Users/pintor/Documents/CIn/10/Data Science/2018-2-projeto-bubads/Notebooks\n",
      "  % Total    % Received % Xferd  Average Speed   Time    Time     Time  Current\n",
      "                                 Dload  Upload   Total   Spent    Left  Speed\n",
      "100  5247  100  5247    0     0   9561      0 --:--:-- --:--:-- --:--:--  9574\n",
      "/Users/pintor/Documents/CIn/10/Data Science/2018-2-projeto-bubads/Notebooks\n",
      "  % Total    % Received % Xferd  Average Speed   Time    Time     Time  Current\n",
      "                                 Dload  Upload   Total   Spent    Left  Speed\n",
      "100 11780  100 11780    0     0  21306      0 --:--:-- --:--:-- --:--:-- 21301\n",
      "/Users/pintor/Documents/CIn/10/Data Science/2018-2-projeto-bubads/Notebooks\n",
      "  % Total    % Received % Xferd  Average Speed   Time    Time     Time  Current\n",
      "                                 Dload  Upload   Total   Spent    Left  Speed\n",
      "100 23008  100 23008    0     0  37261      0 --:--:-- --:--:-- --:--:-- 37229\n",
      "/Users/pintor/Documents/CIn/10/Data Science/2018-2-projeto-bubads/Notebooks\n",
      "  % Total    % Received % Xferd  Average Speed   Time    Time     Time  Current\n",
      "                                 Dload  Upload   Total   Spent    Left  Speed\n",
      "100  6891  100  6891    0     0  13043      0 --:--:-- --:--:-- --:--:-- 13051\n",
      "/Users/pintor/Documents/CIn/10/Data Science/2018-2-projeto-bubads/Notebooks\n",
      "  % Total    % Received % Xferd  Average Speed   Time    Time     Time  Current\n",
      "                                 Dload  Upload   Total   Spent    Left  Speed\n",
      "100  3856  100  3856    0     0   7079      0 --:--:-- --:--:-- --:--:--  7075\n",
      "/Users/pintor/Documents/CIn/10/Data Science/2018-2-projeto-bubads/Notebooks\n",
      "  % Total    % Received % Xferd  Average Speed   Time    Time     Time  Current\n",
      "                                 Dload  Upload   Total   Spent    Left  Speed\n",
      "100 12079  100 12079    0     0  21900      0 --:--:-- --:--:-- --:--:-- 21882\n",
      "/Users/pintor/Documents/CIn/10/Data Science/2018-2-projeto-bubads/Notebooks\n",
      "  % Total    % Received % Xferd  Average Speed   Time    Time     Time  Current\n",
      "                                 Dload  Upload   Total   Spent    Left  Speed\n",
      "100  5888  100  5888    0     0   6471      0 --:--:-- --:--:-- --:--:--  6470\n",
      "/Users/pintor/Documents/CIn/10/Data Science/2018-2-projeto-bubads/Notebooks\n",
      "  % Total    % Received % Xferd  Average Speed   Time    Time     Time  Current\n",
      "                                 Dload  Upload   Total   Spent    Left  Speed\n",
      "100  6183  100  6183    0     0  11221      0 --:--:-- --:--:-- --:--:-- 11221\n",
      "/Users/pintor/Documents/CIn/10/Data Science/2018-2-projeto-bubads/Notebooks\n",
      "  % Total    % Received % Xferd  Average Speed   Time    Time     Time  Current\n",
      "                                 Dload  Upload   Total   Spent    Left  Speed\n",
      "100  4597  100  4597    0     0   8072      0 --:--:-- --:--:-- --:--:--  8064\n",
      "/Users/pintor/Documents/CIn/10/Data Science/2018-2-projeto-bubads/Notebooks\n",
      "  % Total    % Received % Xferd  Average Speed   Time    Time     Time  Current\n",
      "                                 Dload  Upload   Total   Spent    Left  Speed\n",
      "100  3407  100  3407    0     0   6100      0 --:--:-- --:--:-- --:--:--  6105\n",
      "/Users/pintor/Documents/CIn/10/Data Science/2018-2-projeto-bubads/Notebooks\n",
      "  % Total    % Received % Xferd  Average Speed   Time    Time     Time  Current\n",
      "                                 Dload  Upload   Total   Spent    Left  Speed\n",
      "100  6081  100  6081    0     0  11217      0 --:--:-- --:--:-- --:--:-- 11219\n",
      "/Users/pintor/Documents/CIn/10/Data Science/2018-2-projeto-bubads/Notebooks\n",
      "  % Total    % Received % Xferd  Average Speed   Time    Time     Time  Current\n",
      "                                 Dload  Upload   Total   Spent    Left  Speed\n",
      "100 11210  100 11210    0     0  20724      0 --:--:-- --:--:-- --:--:-- 20720\n",
      "/Users/pintor/Documents/CIn/10/Data Science/2018-2-projeto-bubads/Notebooks\n",
      "  % Total    % Received % Xferd  Average Speed   Time    Time     Time  Current\n",
      "                                 Dload  Upload   Total   Spent    Left  Speed\n",
      "100  9814  100  9814    0     0  18041      0 --:--:-- --:--:-- --:--:-- 18040\n",
      "/Users/pintor/Documents/CIn/10/Data Science/2018-2-projeto-bubads/Notebooks\n",
      "  % Total    % Received % Xferd  Average Speed   Time    Time     Time  Current\n",
      "                                 Dload  Upload   Total   Spent    Left  Speed\n",
      "100  7984  100  7984    0     0  14823      0 --:--:-- --:--:-- --:--:-- 14840\n",
      "/Users/pintor/Documents/CIn/10/Data Science/2018-2-projeto-bubads/Notebooks\n",
      "  % Total    % Received % Xferd  Average Speed   Time    Time     Time  Current\n",
      "                                 Dload  Upload   Total   Spent    Left  Speed\n",
      "100 10671  100 10671    0     0  19705      0 --:--:-- --:--:-- --:--:-- 19724\n",
      "/Users/pintor/Documents/CIn/10/Data Science/2018-2-projeto-bubads/Notebooks\n",
      "  % Total    % Received % Xferd  Average Speed   Time    Time     Time  Current\n",
      "                                 Dload  Upload   Total   Spent    Left  Speed\n",
      "100  7058  100  7058    0     0  12899      0 --:--:-- --:--:-- --:--:-- 12879\n",
      "/Users/pintor/Documents/CIn/10/Data Science/2018-2-projeto-bubads/Notebooks\n",
      "  % Total    % Received % Xferd  Average Speed   Time    Time     Time  Current\n",
      "                                 Dload  Upload   Total   Spent    Left  Speed\n",
      "100 21919  100 21919    0     0  34620      0 --:--:-- --:--:-- --:--:-- 34572\n",
      "/Users/pintor/Documents/CIn/10/Data Science/2018-2-projeto-bubads/Notebooks\n",
      "  % Total    % Received % Xferd  Average Speed   Time    Time     Time  Current\n",
      "                                 Dload  Upload   Total   Spent    Left  Speed\n",
      "100  7180  100  7180    0     0  13027      0 --:--:-- --:--:-- --:--:-- 13030\n",
      "/Users/pintor/Documents/CIn/10/Data Science/2018-2-projeto-bubads/Notebooks\n",
      "  % Total    % Received % Xferd  Average Speed   Time    Time     Time  Current\n",
      "                                 Dload  Upload   Total   Spent    Left  Speed\n",
      "100  5301  100  5301    0     0   9562      0 --:--:-- --:--:-- --:--:--  9568\n",
      "/Users/pintor/Documents/CIn/10/Data Science/2018-2-projeto-bubads/Notebooks\n",
      "  % Total    % Received % Xferd  Average Speed   Time    Time     Time  Current\n",
      "                                 Dload  Upload   Total   Spent    Left  Speed\n",
      "100  2459  100  2459    0     0   4410      0 --:--:-- --:--:-- --:--:--  4406\n",
      "/Users/pintor/Documents/CIn/10/Data Science/2018-2-projeto-bubads/Notebooks\n",
      "  % Total    % Received % Xferd  Average Speed   Time    Time     Time  Current\n",
      "                                 Dload  Upload   Total   Spent    Left  Speed\n",
      "100  2298  100  2298    0     0   4195      0 --:--:-- --:--:-- --:--:--  4193\n",
      "/Users/pintor/Documents/CIn/10/Data Science/2018-2-projeto-bubads/Notebooks\n",
      "  % Total    % Received % Xferd  Average Speed   Time    Time     Time  Current\n",
      "                                 Dload  Upload   Total   Spent    Left  Speed\n",
      "100  4324  100  4324    0     0   7558      0 --:--:-- --:--:-- --:--:--  7559\n",
      "/Users/pintor/Documents/CIn/10/Data Science/2018-2-projeto-bubads/Notebooks\n",
      "  % Total    % Received % Xferd  Average Speed   Time    Time     Time  Current\n",
      "                                 Dload  Upload   Total   Spent    Left  Speed\n",
      "100  8825  100  8825    0     0  16492      0 --:--:-- --:--:-- --:--:-- 16495\n",
      "/Users/pintor/Documents/CIn/10/Data Science/2018-2-projeto-bubads/Notebooks\n",
      "  % Total    % Received % Xferd  Average Speed   Time    Time     Time  Current\n",
      "                                 Dload  Upload   Total   Spent    Left  Speed\n",
      "100  5161  100  5161    0     0   9067      0 --:--:-- --:--:-- --:--:--  9054\n",
      "/Users/pintor/Documents/CIn/10/Data Science/2018-2-projeto-bubads/Notebooks\n",
      "  % Total    % Received % Xferd  Average Speed   Time    Time     Time  Current\n",
      "                                 Dload  Upload   Total   Spent    Left  Speed\n",
      "100  3474  100  3474    0     0   6032      0 --:--:-- --:--:-- --:--:--  6031\n",
      "/Users/pintor/Documents/CIn/10/Data Science/2018-2-projeto-bubads/Notebooks\n",
      "  % Total    % Received % Xferd  Average Speed   Time    Time     Time  Current\n",
      "                                 Dload  Upload   Total   Spent    Left  Speed\n",
      "100  3204  100  3204    0     0   5553      0 --:--:-- --:--:-- --:--:--  5562\n",
      "/Users/pintor/Documents/CIn/10/Data Science/2018-2-projeto-bubads/Notebooks\n",
      "  % Total    % Received % Xferd  Average Speed   Time    Time     Time  Current\n",
      "                                 Dload  Upload   Total   Spent    Left  Speed\n",
      "100 22090  100 22090    0     0  32786      0 --:--:-- --:--:-- --:--:-- 32774\n",
      "/Users/pintor/Documents/CIn/10/Data Science/2018-2-projeto-bubads/Notebooks\n",
      "  % Total    % Received % Xferd  Average Speed   Time    Time     Time  Current\n",
      "                                 Dload  Upload   Total   Spent    Left  Speed\n",
      "100  6200  100  6200    0     0  11635      0 --:--:-- --:--:-- --:--:-- 11632\n",
      "/Users/pintor/Documents/CIn/10/Data Science/2018-2-projeto-bubads/Notebooks\n",
      "  % Total    % Received % Xferd  Average Speed   Time    Time     Time  Current\n",
      "                                 Dload  Upload   Total   Spent    Left  Speed\n",
      "100  7741  100  7741    0     0   7512      0  0:00:01  0:00:01 --:--:--  7515\n",
      "/Users/pintor/Documents/CIn/10/Data Science/2018-2-projeto-bubads/Notebooks\n",
      "  % Total    % Received % Xferd  Average Speed   Time    Time     Time  Current\n",
      "                                 Dload  Upload   Total   Spent    Left  Speed\n",
      "100  3921  100  3921    0     0   7370      0 --:--:-- --:--:-- --:--:--  7370\n",
      "/Users/pintor/Documents/CIn/10/Data Science/2018-2-projeto-bubads/Notebooks\n",
      "  % Total    % Received % Xferd  Average Speed   Time    Time     Time  Current\n",
      "                                 Dload  Upload   Total   Spent    Left  Speed\n",
      "100  4857  100  4857    0     0   8412      0 --:--:-- --:--:-- --:--:--  8417\n",
      "/Users/pintor/Documents/CIn/10/Data Science/2018-2-projeto-bubads/Notebooks\n",
      "  % Total    % Received % Xferd  Average Speed   Time    Time     Time  Current\n",
      "                                 Dload  Upload   Total   Spent    Left  Speed\n",
      "100  6347  100  6347    0     0  11524      0 --:--:-- --:--:-- --:--:-- 11540\n",
      "/Users/pintor/Documents/CIn/10/Data Science/2018-2-projeto-bubads/Notebooks\n",
      "  % Total    % Received % Xferd  Average Speed   Time    Time     Time  Current\n",
      "                                 Dload  Upload   Total   Spent    Left  Speed\n",
      "100  5016  100  5016    0     0   7442      0 --:--:-- --:--:-- --:--:--  7442\n",
      "/Users/pintor/Documents/CIn/10/Data Science/2018-2-projeto-bubads/Notebooks\n",
      "  % Total    % Received % Xferd  Average Speed   Time    Time     Time  Current\n",
      "                                 Dload  Upload   Total   Spent    Left  Speed\n",
      "100  9260  100  9260    0     0  16313      0 --:--:-- --:--:-- --:--:-- 16302\n",
      "/Users/pintor/Documents/CIn/10/Data Science/2018-2-projeto-bubads/Notebooks\n",
      "  % Total    % Received % Xferd  Average Speed   Time    Time     Time  Current\n",
      "                                 Dload  Upload   Total   Spent    Left  Speed\n",
      "100 10703  100 10703    0     0  19344      0 --:--:-- --:--:-- --:--:-- 19354\n",
      "/Users/pintor/Documents/CIn/10/Data Science/2018-2-projeto-bubads/Notebooks\n",
      "  % Total    % Received % Xferd  Average Speed   Time    Time     Time  Current\n",
      "                                 Dload  Upload   Total   Spent    Left  Speed\n",
      "100 10119  100 10119    0     0  18023      0 --:--:-- --:--:-- --:--:-- 18005\n",
      "/Users/pintor/Documents/CIn/10/Data Science/2018-2-projeto-bubads/Notebooks\n",
      "  % Total    % Received % Xferd  Average Speed   Time    Time     Time  Current\n",
      "                                 Dload  Upload   Total   Spent    Left  Speed\n",
      "100  4302  100  4302    0     0   7808      0 --:--:-- --:--:-- --:--:--  7807\n",
      "/Users/pintor/Documents/CIn/10/Data Science/2018-2-projeto-bubads/Notebooks\n",
      "  % Total    % Received % Xferd  Average Speed   Time    Time     Time  Current\n",
      "                                 Dload  Upload   Total   Spent    Left  Speed\n",
      "100  8171  100  8171    0     0  12268      0 --:--:-- --:--:-- --:--:-- 12287\n",
      "/Users/pintor/Documents/CIn/10/Data Science/2018-2-projeto-bubads/Notebooks\n",
      "  % Total    % Received % Xferd  Average Speed   Time    Time     Time  Current\n",
      "                                 Dload  Upload   Total   Spent    Left  Speed\n",
      "100 16203  100 16203    0     0  25256      0 --:--:-- --:--:-- --:--:-- 25238\n",
      "/Users/pintor/Documents/CIn/10/Data Science/2018-2-projeto-bubads/Notebooks\n",
      "  % Total    % Received % Xferd  Average Speed   Time    Time     Time  Current\n",
      "                                 Dload  Upload   Total   Spent    Left  Speed\n",
      "100  7441  100  7441    0     0  13191      0 --:--:-- --:--:-- --:--:-- 13169\n",
      "/Users/pintor/Documents/CIn/10/Data Science/2018-2-projeto-bubads/Notebooks\n",
      "  % Total    % Received % Xferd  Average Speed   Time    Time     Time  Current\n",
      "                                 Dload  Upload   Total   Spent    Left  Speed\n",
      "100 17825  100 17825    0     0  28534      0 --:--:-- --:--:-- --:--:-- 28520\n",
      "/Users/pintor/Documents/CIn/10/Data Science/2018-2-projeto-bubads/Notebooks\n",
      "  % Total    % Received % Xferd  Average Speed   Time    Time     Time  Current\n",
      "                                 Dload  Upload   Total   Spent    Left  Speed\n",
      "100  8604  100  8604    0     0  15369      0 --:--:-- --:--:-- --:--:-- 15391\n",
      "/Users/pintor/Documents/CIn/10/Data Science/2018-2-projeto-bubads/Notebooks\n",
      "  % Total    % Received % Xferd  Average Speed   Time    Time     Time  Current\n",
      "                                 Dload  Upload   Total   Spent    Left  Speed\n",
      "100  4154  100  4154    0     0   7488      0 --:--:-- --:--:-- --:--:--  7484\n",
      "/Users/pintor/Documents/CIn/10/Data Science/2018-2-projeto-bubads/Notebooks\n",
      "  % Total    % Received % Xferd  Average Speed   Time    Time     Time  Current\n",
      "                                 Dload  Upload   Total   Spent    Left  Speed\n",
      "100 11448  100 11448    0     0  20545      0 --:--:-- --:--:-- --:--:-- 20516\n",
      "/Users/pintor/Documents/CIn/10/Data Science/2018-2-projeto-bubads/Notebooks\n",
      "  % Total    % Received % Xferd  Average Speed   Time    Time     Time  Current\n",
      "                                 Dload  Upload   Total   Spent    Left  Speed\n",
      "100  4737  100  4737    0     0   8540      0 --:--:-- --:--:-- --:--:--  8535\n",
      "/Users/pintor/Documents/CIn/10/Data Science/2018-2-projeto-bubads/Notebooks\n",
      "  % Total    % Received % Xferd  Average Speed   Time    Time     Time  Current\n",
      "                                 Dload  Upload   Total   Spent    Left  Speed\n",
      "100  9317  100  9317    0     0  15367      0 --:--:-- --:--:-- --:--:-- 15374\n",
      "/Users/pintor/Documents/CIn/10/Data Science/2018-2-projeto-bubads/Notebooks\n",
      "  % Total    % Received % Xferd  Average Speed   Time    Time     Time  Current\n",
      "                                 Dload  Upload   Total   Spent    Left  Speed\n",
      "100  5483  100  5483    0     0  10156      0 --:--:-- --:--:-- --:--:-- 10153\n",
      "/Users/pintor/Documents/CIn/10/Data Science/2018-2-projeto-bubads/Notebooks\n",
      "  % Total    % Received % Xferd  Average Speed   Time    Time     Time  Current\n",
      "                                 Dload  Upload   Total   Spent    Left  Speed\n",
      "100  4999  100  4999    0     0   9036      0 --:--:-- --:--:-- --:--:--  9039\n",
      "/Users/pintor/Documents/CIn/10/Data Science/2018-2-projeto-bubads/Notebooks\n",
      "  % Total    % Received % Xferd  Average Speed   Time    Time     Time  Current\n",
      "                                 Dload  Upload   Total   Spent    Left  Speed\n",
      "100 15291  100 15291    0     0  22518      0 --:--:-- --:--:-- --:--:-- 22553\n",
      "/Users/pintor/Documents/CIn/10/Data Science/2018-2-projeto-bubads/Notebooks\n",
      "  % Total    % Received % Xferd  Average Speed   Time    Time     Time  Current\n",
      "                                 Dload  Upload   Total   Spent    Left  Speed\n",
      "100 12202  100 12202    0     0  21389      0 --:--:-- --:--:-- --:--:-- 21407\n",
      "/Users/pintor/Documents/CIn/10/Data Science/2018-2-projeto-bubads/Notebooks\n",
      "  % Total    % Received % Xferd  Average Speed   Time    Time     Time  Current\n",
      "                                 Dload  Upload   Total   Spent    Left  Speed\n"
     ]
    },
    {
     "name": "stdout",
     "output_type": "stream",
     "text": [
      "100  5842  100  5842    0     0  10826      0 --:--:-- --:--:-- --:--:-- 10818\n",
      "/Users/pintor/Documents/CIn/10/Data Science/2018-2-projeto-bubads/Notebooks\n",
      "  % Total    % Received % Xferd  Average Speed   Time    Time     Time  Current\n",
      "                                 Dload  Upload   Total   Spent    Left  Speed\n",
      "100  2774  100  2774    0     0   5021      0 --:--:-- --:--:-- --:--:--  5016\n",
      "/Users/pintor/Documents/CIn/10/Data Science/2018-2-projeto-bubads/Notebooks\n",
      "  % Total    % Received % Xferd  Average Speed   Time    Time     Time  Current\n",
      "                                 Dload  Upload   Total   Spent    Left  Speed\n",
      "100  5442  100  5442    0     0  10248      0 --:--:-- --:--:-- --:--:-- 10267\n",
      "/Users/pintor/Documents/CIn/10/Data Science/2018-2-projeto-bubads/Notebooks\n",
      "  % Total    % Received % Xferd  Average Speed   Time    Time     Time  Current\n",
      "                                 Dload  Upload   Total   Spent    Left  Speed\n",
      "100  7952  100  7952    0     0  14763      0 --:--:-- --:--:-- --:--:-- 14780\n",
      "/Users/pintor/Documents/CIn/10/Data Science/2018-2-projeto-bubads/Notebooks\n",
      "  % Total    % Received % Xferd  Average Speed   Time    Time     Time  Current\n",
      "                                 Dload  Upload   Total   Spent    Left  Speed\n",
      "100  4047  100  4047    0     0   7142      0 --:--:-- --:--:-- --:--:--  7137\n",
      "/Users/pintor/Documents/CIn/10/Data Science/2018-2-projeto-bubads/Notebooks\n",
      "  % Total    % Received % Xferd  Average Speed   Time    Time     Time  Current\n",
      "                                 Dload  Upload   Total   Spent    Left  Speed\n",
      "100  2727  100  2727    0     0   4299      0 --:--:-- --:--:-- --:--:--  4294\n",
      "/Users/pintor/Documents/CIn/10/Data Science/2018-2-projeto-bubads/Notebooks\n",
      "  % Total    % Received % Xferd  Average Speed   Time    Time     Time  Current\n",
      "                                 Dload  Upload   Total   Spent    Left  Speed\n",
      "100  9693  100  9693    0     0  17818      0 --:--:-- --:--:-- --:--:-- 17850\n",
      "/Users/pintor/Documents/CIn/10/Data Science/2018-2-projeto-bubads/Notebooks\n"
     ]
    }
   ],
   "source": [
    "for framework in frameworks:\n",
    "    readmeURL = fetchReadmeURL(framework[0], framework[1])\n",
    "    downloadReadme(readmeURL, framework[1])"
   ]
  },
  {
   "cell_type": "markdown",
   "metadata": {},
   "source": [
    "Counting how many files were downloaded."
   ]
  },
  {
   "cell_type": "code",
   "execution_count": 54,
   "metadata": {},
   "outputs": [
    {
     "name": "stdout",
     "output_type": "stream",
     "text": [
      "      85\r\n"
     ]
    }
   ],
   "source": [
    "! cd data/READMES && ls | wc -l"
   ]
  },
  {
   "cell_type": "markdown",
   "metadata": {},
   "source": [
    "## Converting markdown to HTML\n",
    "\n",
    "Using markdown library to convert all README.md files to html formats for easier parsing. "
   ]
  },
  {
   "cell_type": "code",
   "execution_count": 13,
   "metadata": {},
   "outputs": [],
   "source": [
    "basePath = 'data/READMES/'\n",
    "\n",
    "instance = markdown.Markdown()\n",
    "\n",
    "for name in frameworkNames:\n",
    "    filename = basePath + name\n",
    "    instance.convertFile(filename + \".md\", basePath + 'HTML/' + name + \".html\")\n",
    "    instance.reset()"
   ]
  }
 ],
 "metadata": {
  "kernelspec": {
   "display_name": "Python 3",
   "language": "python",
   "name": "python3"
  },
  "language_info": {
   "codemirror_mode": {
    "name": "ipython",
    "version": 3
   },
   "file_extension": ".py",
   "mimetype": "text/x-python",
   "name": "python",
   "nbconvert_exporter": "python",
   "pygments_lexer": "ipython3",
   "version": "3.7.3"
  }
 },
 "nbformat": 4,
 "nbformat_minor": 2
}
