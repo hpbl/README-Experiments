{
 "cells": [
  {
   "cell_type": "code",
   "execution_count": 63,
   "metadata": {},
   "outputs": [
    {
     "name": "stdout",
     "output_type": "stream",
     "text": [
      "Requirement already satisfied: markdown in /opt/conda/lib/python3.7/site-packages (3.1.1)\r\n",
      "Requirement already satisfied: setuptools>=36 in /opt/conda/lib/python3.7/site-packages (from markdown) (41.0.0)\r\n"
     ]
    }
   ],
   "source": [
    "# Install a pip package in the current Jupyter kernel\n",
    "\n",
    "import sys\n",
    "!{sys.executable} -m pip install markdown"
   ]
  },
  {
   "cell_type": "code",
   "execution_count": 107,
   "metadata": {},
   "outputs": [],
   "source": [
    "with open('data/READMES/backend/Quick.Quick.md', 'r') as f:\n",
    "    markdown_file_content = f.read()"
   ]
  },
  {
   "cell_type": "code",
   "execution_count": 108,
   "metadata": {},
   "outputs": [
    {
     "data": {
      "text/plain": [
       "[{'level': 1,\n",
       "  'id': 'header-1',\n",
       "  'name': 'Header 1',\n",
       "  'children': [{'level': 2,\n",
       "    'id': 'header-2',\n",
       "    'name': 'Header 2',\n",
       "    'children': []}]}]"
      ]
     },
     "execution_count": 108,
     "metadata": {},
     "output_type": "execute_result"
    }
   ],
   "source": [
    "import markdown\n",
    "text = \"\"\"\n",
    "# Header 1\n",
    "\n",
    "## Header 2\n",
    "\"\"\"\n",
    "md = markdown.Markdown(extensions=['toc', 'markdown.extensions.fenced_code'])\n",
    "html = md.convert(text)\n",
    "md.toc_tokens"
   ]
  },
  {
   "cell_type": "code",
   "execution_count": 109,
   "metadata": {},
   "outputs": [
    {
     "data": {
      "text/plain": [
       "[{'level': 4, 'id': 'nimble', 'name': 'Nimble', 'children': []},\n",
       " {'level': 2, 'id': 'swift-version', 'name': 'Swift Version', 'children': []},\n",
       " {'level': 2, 'id': 'documentation', 'name': 'Documentation', 'children': []},\n",
       " {'level': 2,\n",
       "  'id': 'projects-using-quick',\n",
       "  'name': 'Projects using Quick',\n",
       "  'children': []},\n",
       " {'level': 2,\n",
       "  'id': 'who-uses-quick',\n",
       "  'name': 'Who uses Quick',\n",
       "  'children': [{'level': 3,\n",
       "    'id': 'i-do',\n",
       "    'name': 'I do',\n",
       "    'children': [{'level': 4,\n",
       "      'id': 'me-too',\n",
       "      'name': 'me too',\n",
       "      'children': []}]},\n",
       "   {'level': 3, 'id': 'no-you-dont', 'name': \"no you don't\", 'children': []}]},\n",
       " {'level': 2, 'id': 'license', 'name': 'License', 'children': []}]"
      ]
     },
     "execution_count": 109,
     "metadata": {},
     "output_type": "execute_result"
    }
   ],
   "source": [
    "md.convert(markdown_file_content)\n",
    "md.toc_tokens"
   ]
  }
 ],
 "metadata": {
  "kernelspec": {
   "display_name": "Python 3",
   "language": "python",
   "name": "python3"
  },
  "language_info": {
   "codemirror_mode": {
    "name": "ipython",
    "version": 3
   },
   "file_extension": ".py",
   "mimetype": "text/x-python",
   "name": "python",
   "nbconvert_exporter": "python",
   "pygments_lexer": "ipython3",
   "version": "3.7.3"
  }
 },
 "nbformat": 4,
 "nbformat_minor": 2
}
