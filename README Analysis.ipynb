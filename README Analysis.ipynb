{
 "cells": [
  {
   "cell_type": "code",
   "execution_count": 60,
   "metadata": {},
   "outputs": [],
   "source": [
    "import os\n",
    "import json\n",
    "import pandas as pd\n",
    "import seaborn as sns\n",
    "\n",
    "path = 'data/queries'\n",
    "jsonFileNames = [fileName for fileName in os.listdir(path) if fileName.endswith(\".json\")]\n",
    "\n",
    "jsonDicts = {}\n",
    "for fileName in jsonFileNames:\n",
    "    jsonDicts[fileName] = json.load(open(f'{path}/{fileName}', 'r'))"
   ]
  },
  {
   "cell_type": "code",
   "execution_count": 10,
   "metadata": {},
   "outputs": [
    {
     "data": {
      "text/html": [
       "<div>\n",
       "<style scoped>\n",
       "    .dataframe tbody tr th:only-of-type {\n",
       "        vertical-align: middle;\n",
       "    }\n",
       "\n",
       "    .dataframe tbody tr th {\n",
       "        vertical-align: top;\n",
       "    }\n",
       "\n",
       "    .dataframe thead th {\n",
       "        text-align: right;\n",
       "    }\n",
       "</style>\n",
       "<table border=\"1\" class=\"dataframe\">\n",
       "  <thead>\n",
       "    <tr style=\"text-align: right;\">\n",
       "      <th></th>\n",
       "      <th>library+language:Swift+topic:iOS.json</th>\n",
       "      <th>library+language:Swift.json</th>\n",
       "      <th>language:Swift+topic:iOS.json</th>\n",
       "      <th>language:Swift.json</th>\n",
       "    </tr>\n",
       "  </thead>\n",
       "  <tbody>\n",
       "    <tr>\n",
       "      <th>repos</th>\n",
       "      <td>[{'id': 21696302, 'node_id': 'MDEwOlJlcG9zaXRv...</td>\n",
       "      <td>[{'id': 21696302, 'node_id': 'MDEwOlJlcG9zaXRv...</td>\n",
       "      <td>[{'id': 21700699, 'node_id': 'MDEwOlJlcG9zaXRv...</td>\n",
       "      <td>[{'id': 21700699, 'node_id': 'MDEwOlJlcG9zaXRv...</td>\n",
       "    </tr>\n",
       "    <tr>\n",
       "      <th>urls</th>\n",
       "      <td>[https://api.github.com/search/repositories?q=...</td>\n",
       "      <td>[https://api.github.com/search/repositories?q=...</td>\n",
       "      <td>[https://api.github.com/search/repositories?q=...</td>\n",
       "      <td>[https://api.github.com/search/repositories?q=...</td>\n",
       "    </tr>\n",
       "  </tbody>\n",
       "</table>\n",
       "</div>"
      ],
      "text/plain": [
       "                   library+language:Swift+topic:iOS.json  \\\n",
       "repos  [{'id': 21696302, 'node_id': 'MDEwOlJlcG9zaXRv...   \n",
       "urls   [https://api.github.com/search/repositories?q=...   \n",
       "\n",
       "                             library+language:Swift.json  \\\n",
       "repos  [{'id': 21696302, 'node_id': 'MDEwOlJlcG9zaXRv...   \n",
       "urls   [https://api.github.com/search/repositories?q=...   \n",
       "\n",
       "                           language:Swift+topic:iOS.json  \\\n",
       "repos  [{'id': 21700699, 'node_id': 'MDEwOlJlcG9zaXRv...   \n",
       "urls   [https://api.github.com/search/repositories?q=...   \n",
       "\n",
       "                                     language:Swift.json  \n",
       "repos  [{'id': 21700699, 'node_id': 'MDEwOlJlcG9zaXRv...  \n",
       "urls   [https://api.github.com/search/repositories?q=...  "
      ]
     },
     "execution_count": 10,
     "metadata": {},
     "output_type": "execute_result"
    }
   ],
   "source": [
    "pd.DataFrame(jsonDicts)"
   ]
  },
  {
   "cell_type": "markdown",
   "metadata": {},
   "source": [
    "## Checking Difference\n",
    "Checking if the datasets are indeed different"
   ]
  },
  {
   "cell_type": "code",
   "execution_count": 50,
   "metadata": {},
   "outputs": [
    {
     "data": {
      "text/html": [
       "<div>\n",
       "<style scoped>\n",
       "    .dataframe tbody tr th:only-of-type {\n",
       "        vertical-align: middle;\n",
       "    }\n",
       "\n",
       "    .dataframe tbody tr th {\n",
       "        vertical-align: top;\n",
       "    }\n",
       "\n",
       "    .dataframe thead th {\n",
       "        text-align: right;\n",
       "    }\n",
       "</style>\n",
       "<table border=\"1\" class=\"dataframe\">\n",
       "  <thead>\n",
       "    <tr style=\"text-align: right;\">\n",
       "      <th></th>\n",
       "      <th>library+language:Swift+topic:iOS</th>\n",
       "      <th>library+language:Swift</th>\n",
       "      <th>language:Swift+topic:iOS</th>\n",
       "      <th>language:Swift</th>\n",
       "    </tr>\n",
       "  </thead>\n",
       "  <tbody>\n",
       "    <tr>\n",
       "      <th>0</th>\n",
       "      <td>matteocrippa/awesome-swift</td>\n",
       "      <td>matteocrippa/awesome-swift</td>\n",
       "      <td>vsouza/awesome-ios</td>\n",
       "      <td>vsouza/awesome-ios</td>\n",
       "    </tr>\n",
       "    <tr>\n",
       "      <th>1</th>\n",
       "      <td>airbnb/lottie-ios</td>\n",
       "      <td>airbnb/lottie-ios</td>\n",
       "      <td>dkhamsing/open-source-ios-apps</td>\n",
       "      <td>Alamofire/Alamofire</td>\n",
       "    </tr>\n",
       "    <tr>\n",
       "      <th>2</th>\n",
       "      <td>HeroTransitions/Hero</td>\n",
       "      <td>HeroTransitions/Hero</td>\n",
       "      <td>matteocrippa/awesome-swift</td>\n",
       "      <td>danielgindi/Charts</td>\n",
       "    </tr>\n",
       "    <tr>\n",
       "      <th>3</th>\n",
       "      <td>onevcat/Kingfisher</td>\n",
       "      <td>onevcat/Kingfisher</td>\n",
       "      <td>airbnb/lottie-ios</td>\n",
       "      <td>raywenderlich/swift-algorithm-club</td>\n",
       "    </tr>\n",
       "    <tr>\n",
       "      <th>4</th>\n",
       "      <td>Ramotion/animated-tab-bar</td>\n",
       "      <td>MengTo/Spring</td>\n",
       "      <td>HeroTransitions/Hero</td>\n",
       "      <td>shadowsocks/ShadowsocksX-NG</td>\n",
       "    </tr>\n",
       "  </tbody>\n",
       "</table>\n",
       "</div>"
      ],
      "text/plain": [
       "  library+language:Swift+topic:iOS      library+language:Swift  \\\n",
       "0       matteocrippa/awesome-swift  matteocrippa/awesome-swift   \n",
       "1                airbnb/lottie-ios           airbnb/lottie-ios   \n",
       "2             HeroTransitions/Hero        HeroTransitions/Hero   \n",
       "3               onevcat/Kingfisher          onevcat/Kingfisher   \n",
       "4        Ramotion/animated-tab-bar               MengTo/Spring   \n",
       "\n",
       "         language:Swift+topic:iOS                      language:Swift  \n",
       "0              vsouza/awesome-ios                  vsouza/awesome-ios  \n",
       "1  dkhamsing/open-source-ios-apps                 Alamofire/Alamofire  \n",
       "2      matteocrippa/awesome-swift                  danielgindi/Charts  \n",
       "3               airbnb/lottie-ios  raywenderlich/swift-algorithm-club  \n",
       "4            HeroTransitions/Hero         shadowsocks/ShadowsocksX-NG  "
      ]
     },
     "execution_count": 50,
     "metadata": {},
     "output_type": "execute_result"
    }
   ],
   "source": [
    "namesDict = {}\n",
    "for key, value in jsonDicts.items():\n",
    "    namesDict[key.replace(\".json\", \"\", 1)] = [repo[\"full_name\"] for repo in value[\"repos\"]]\n",
    "    \n",
    "pd.DataFrame(namesDict).head()"
   ]
  },
  {
   "cell_type": "code",
   "execution_count": 47,
   "metadata": {},
   "outputs": [],
   "source": [
    "import numpy as np\n",
    "\n",
    "language = diffDict[\"language:Swift\"]\n",
    "languageTopic = diffDict[\"language:Swift+topic:iOS\"]\n",
    "libraryLanguage = diffDict[\"library+language:Swift\"]\n",
    "libraryLanguageTopic = diffDict[\"library+language:Swift+topic:iOS\"]"
   ]
  },
  {
   "cell_type": "code",
   "execution_count": 49,
   "metadata": {},
   "outputs": [
    {
     "name": "stdout",
     "output_type": "stream",
     "text": [
      "66\n",
      "87\n",
      "90\n"
     ]
    }
   ],
   "source": [
    "print(len(np.setdiff1d(language, languageTopic)))\n",
    "print(len(np.setdiff1d(language, libraryLanguage)))\n",
    "print(len(np.setdiff1d(language, libraryLanguageTopic)))"
   ]
  },
  {
   "cell_type": "code",
   "execution_count": 68,
   "metadata": {},
   "outputs": [
    {
     "data": {
      "text/html": [
       "<style  type=\"text/css\" >\n",
       "    #T_3f157e5a_704a_11e9_8803_0242ac120002row0_col0 {\n",
       "            background-color:  #800080;\n",
       "            color:  #f1f1f1;\n",
       "        }    #T_3f157e5a_704a_11e9_8803_0242ac120002row0_col1 {\n",
       "            background-color:  #800080;\n",
       "            color:  #f1f1f1;\n",
       "        }    #T_3f157e5a_704a_11e9_8803_0242ac120002row0_col2 {\n",
       "            background-color:  #730573;\n",
       "            color:  #f1f1f1;\n",
       "        }    #T_3f157e5a_704a_11e9_8803_0242ac120002row0_col3 {\n",
       "            background-color:  #222222;\n",
       "            color:  #f1f1f1;\n",
       "        }    #T_3f157e5a_704a_11e9_8803_0242ac120002row1_col0 {\n",
       "            background-color:  #730573;\n",
       "            color:  #f1f1f1;\n",
       "        }    #T_3f157e5a_704a_11e9_8803_0242ac120002row1_col1 {\n",
       "            background-color:  #750475;\n",
       "            color:  #f1f1f1;\n",
       "        }    #T_3f157e5a_704a_11e9_8803_0242ac120002row1_col2 {\n",
       "            background-color:  #222222;\n",
       "            color:  #f1f1f1;\n",
       "        }    #T_3f157e5a_704a_11e9_8803_0242ac120002row1_col3 {\n",
       "            background-color:  #670967;\n",
       "            color:  #f1f1f1;\n",
       "        }    #T_3f157e5a_704a_11e9_8803_0242ac120002row2_col0 {\n",
       "            background-color:  #5c0d5c;\n",
       "            color:  #f1f1f1;\n",
       "        }    #T_3f157e5a_704a_11e9_8803_0242ac120002row2_col1 {\n",
       "            background-color:  #222222;\n",
       "            color:  #f1f1f1;\n",
       "        }    #T_3f157e5a_704a_11e9_8803_0242ac120002row2_col2 {\n",
       "            background-color:  #800080;\n",
       "            color:  #f1f1f1;\n",
       "        }    #T_3f157e5a_704a_11e9_8803_0242ac120002row2_col3 {\n",
       "            background-color:  #7d017d;\n",
       "            color:  #f1f1f1;\n",
       "        }    #T_3f157e5a_704a_11e9_8803_0242ac120002row3_col0 {\n",
       "            background-color:  #222222;\n",
       "            color:  #f1f1f1;\n",
       "        }    #T_3f157e5a_704a_11e9_8803_0242ac120002row3_col1 {\n",
       "            background-color:  #5d0d5d;\n",
       "            color:  #f1f1f1;\n",
       "        }    #T_3f157e5a_704a_11e9_8803_0242ac120002row3_col2 {\n",
       "            background-color:  #800080;\n",
       "            color:  #f1f1f1;\n",
       "        }    #T_3f157e5a_704a_11e9_8803_0242ac120002row3_col3 {\n",
       "            background-color:  #800080;\n",
       "            color:  #f1f1f1;\n",
       "        }</style><table id=\"T_3f157e5a_704a_11e9_8803_0242ac120002\" ><thead>    <tr>        <th class=\"blank level0\" ></th>        <th class=\"col_heading level0 col0\" >library+language:Swift+topic:iOS</th>        <th class=\"col_heading level0 col1\" >library+language:Swift</th>        <th class=\"col_heading level0 col2\" >language:Swift+topic:iOS</th>        <th class=\"col_heading level0 col3\" >language:Swift</th>    </tr></thead><tbody>\n",
       "                <tr>\n",
       "                        <th id=\"T_3f157e5a_704a_11e9_8803_0242ac120002level0_row0\" class=\"row_heading level0 row0\" >language:Swift</th>\n",
       "                        <td id=\"T_3f157e5a_704a_11e9_8803_0242ac120002row0_col0\" class=\"data row0 col0\" >0.9</td>\n",
       "                        <td id=\"T_3f157e5a_704a_11e9_8803_0242ac120002row0_col1\" class=\"data row0 col1\" >0.87</td>\n",
       "                        <td id=\"T_3f157e5a_704a_11e9_8803_0242ac120002row0_col2\" class=\"data row0 col2\" >0.66</td>\n",
       "                        <td id=\"T_3f157e5a_704a_11e9_8803_0242ac120002row0_col3\" class=\"data row0 col3\" >0</td>\n",
       "            </tr>\n",
       "            <tr>\n",
       "                        <th id=\"T_3f157e5a_704a_11e9_8803_0242ac120002level0_row1\" class=\"row_heading level0 row1\" >language:Swift+topic:iOS</th>\n",
       "                        <td id=\"T_3f157e5a_704a_11e9_8803_0242ac120002row1_col0\" class=\"data row1 col0\" >0.77</td>\n",
       "                        <td id=\"T_3f157e5a_704a_11e9_8803_0242ac120002row1_col1\" class=\"data row1 col1\" >0.77</td>\n",
       "                        <td id=\"T_3f157e5a_704a_11e9_8803_0242ac120002row1_col2\" class=\"data row1 col2\" >0</td>\n",
       "                        <td id=\"T_3f157e5a_704a_11e9_8803_0242ac120002row1_col3\" class=\"data row1 col3\" >0.66</td>\n",
       "            </tr>\n",
       "            <tr>\n",
       "                        <th id=\"T_3f157e5a_704a_11e9_8803_0242ac120002level0_row2\" class=\"row_heading level0 row2\" >library+language:Swift</th>\n",
       "                        <td id=\"T_3f157e5a_704a_11e9_8803_0242ac120002row2_col0\" class=\"data row2 col0\" >0.55</td>\n",
       "                        <td id=\"T_3f157e5a_704a_11e9_8803_0242ac120002row2_col1\" class=\"data row2 col1\" >0</td>\n",
       "                        <td id=\"T_3f157e5a_704a_11e9_8803_0242ac120002row2_col2\" class=\"data row2 col2\" >0.77</td>\n",
       "                        <td id=\"T_3f157e5a_704a_11e9_8803_0242ac120002row2_col3\" class=\"data row2 col3\" >0.87</td>\n",
       "            </tr>\n",
       "            <tr>\n",
       "                        <th id=\"T_3f157e5a_704a_11e9_8803_0242ac120002level0_row3\" class=\"row_heading level0 row3\" >library+language:Swift+topic:iOS</th>\n",
       "                        <td id=\"T_3f157e5a_704a_11e9_8803_0242ac120002row3_col0\" class=\"data row3 col0\" >0</td>\n",
       "                        <td id=\"T_3f157e5a_704a_11e9_8803_0242ac120002row3_col1\" class=\"data row3 col1\" >0.55</td>\n",
       "                        <td id=\"T_3f157e5a_704a_11e9_8803_0242ac120002row3_col2\" class=\"data row3 col2\" >0.77</td>\n",
       "                        <td id=\"T_3f157e5a_704a_11e9_8803_0242ac120002row3_col3\" class=\"data row3 col3\" >0.9</td>\n",
       "            </tr>\n",
       "    </tbody></table>"
      ],
      "text/plain": [
       "<pandas.io.formats.style.Styler at 0x7f362b31c4e0>"
      ]
     },
     "execution_count": 68,
     "metadata": {},
     "output_type": "execute_result"
    }
   ],
   "source": [
    "diffDict = {}\n",
    "for key, value in namesDict.items():\n",
    "    diffDict[key] = {}\n",
    "    for otherKey, otherValues in namesDict.items():\n",
    "        diffDict[key][otherKey] = len(np.setdiff1d(value, otherValues)) / len(value)\n",
    "\n",
    "df = pd.DataFrame(diffDict)\n",
    "# cm = sns.light_palette(\"red\", as_cmap=True)\n",
    "cm = sns.dark_palette(\"purple\", as_cmap=True)\n",
    "s = df.style.background_gradient(cmap=cm)\n",
    "s"
   ]
  },
  {
   "cell_type": "markdown",
   "metadata": {},
   "source": [
    "### Conclusions\n",
    "\n",
    "- The datasets are quite different, the smallest difference being 55%\n",
    "- The more specific que query becomes (library+language:Swift+topic:iOS) more different results we get from the most generic request (language:Swift)"
   ]
  },
  {
   "cell_type": "markdown",
   "metadata": {},
   "source": [
    "### Possible improvements\n",
    "\n",
    "- [ ] Plot a correlation matrix (with the upper triangle removed)"
   ]
  },
  {
   "cell_type": "code",
   "execution_count": 74,
   "metadata": {},
   "outputs": [],
   "source": [
    "# import matplotlib.pyplot as plt\n",
    "\n",
    "# plt.matshow(df.corr())\n",
    "# plt.show()"
   ]
  }
 ],
 "metadata": {
  "kernelspec": {
   "display_name": "Python 3",
   "language": "python",
   "name": "python3"
  },
  "language_info": {
   "codemirror_mode": {
    "name": "ipython",
    "version": 3
   },
   "file_extension": ".py",
   "mimetype": "text/x-python",
   "name": "python",
   "nbconvert_exporter": "python",
   "pygments_lexer": "ipython3",
   "version": "3.7.3"
  }
 },
 "nbformat": 4,
 "nbformat_minor": 2
}
